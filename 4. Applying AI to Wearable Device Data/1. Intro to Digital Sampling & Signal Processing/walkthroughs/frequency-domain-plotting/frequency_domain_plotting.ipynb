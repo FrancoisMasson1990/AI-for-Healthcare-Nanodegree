{
 "cells": [
  {
   "cell_type": "markdown",
   "metadata": {},
   "source": [
    "# Frequency Domain Plotting\n",
    "\n",
    "In this lesson, we're going to learn about a more advanced tool for plotting signals in the frequency domain. Up until now, we have just been plotting the FFT of a signal in much the same way we plot time-domain signals. But as you'll soon see, this can sometimes be misleading."
   ]
  },
  {
   "cell_type": "markdown",
   "metadata": {},
   "source": [
    "### Imports"
   ]
  },
  {
   "cell_type": "code",
   "execution_count": null,
   "metadata": {},
   "outputs": [],
   "source": [
    "import numpy as np\n",
    "from matplotlib import pyplot as plt"
   ]
  },
  {
   "cell_type": "markdown",
   "metadata": {},
   "source": [
    "### Make Signal\n",
    "\n",
    "Let's make a signal whose frequency components change over time."
   ]
  },
  {
   "cell_type": "code",
   "execution_count": null,
   "metadata": {},
   "outputs": [],
   "source": [
    "fs = 200\n",
    "T = 120\n",
    "f0, f1 = 0, 10\n",
    "ts = np.arange(0, T, 1/fs)\n",
    "c = (f1 - f0) / T\n",
    "sig = np.sin(2 * np.pi * (c / 2 * np.square(ts) + f0 * ts))"
   ]
  },
  {
   "cell_type": "markdown",
   "metadata": {},
   "source": [
    "This signal is a sine wave that starts off at 0 Hz and slowly starts to increase in frequency up to 10 Hz."
   ]
  },
  {
   "cell_type": "code",
   "execution_count": null,
   "metadata": {},
   "outputs": [],
   "source": [
    "%matplotlib inline"
   ]
  },
  {
   "cell_type": "code",
   "execution_count": null,
   "metadata": {},
   "outputs": [],
   "source": [
    "plt.clf()\n",
    "plt.title('Time domain')\n",
    "plt.plot(ts, sig)\n",
    "plt.xlabel('Time (sec)')"
   ]
  },
  {
   "cell_type": "markdown",
   "metadata": {},
   "source": [
    "### Entire FFT"
   ]
  },
  {
   "cell_type": "markdown",
   "metadata": {},
   "source": [
    "Let's take a look at this signal in the frequency domain as we normally would."
   ]
  },
  {
   "cell_type": "code",
   "execution_count": null,
   "metadata": {},
   "outputs": [],
   "source": [
    "fft = np.fft.rfft(sig)\n",
    "freq = np.fft.rfftfreq(len(sig), 1/fs)"
   ]
  },
  {
   "cell_type": "markdown",
   "metadata": {},
   "source": [
    "We can easily see that this signal has lots of energy between 0 and 10 Hz and not much else outside of that. While this is correct, it doesn't really tell us that much about the signal. By just looking at the FFT, we don't know that it starts off at 0 Hz and ramps up to 10 Hz. It could just as easily have started off at 10 Hz and gone to 0 Hz. Or it could have had all frequency components from 0 - 10 Hz at all times."
   ]
  },
  {
   "cell_type": "code",
   "execution_count": null,
   "metadata": {},
   "outputs": [],
   "source": [
    "plt.clf()\n",
    "plt.title('Frequency domain')\n",
    "plt.plot(freq, np.abs(fft))\n",
    "plt.xlabel('Frequency (Hz)')"
   ]
  },
  {
   "cell_type": "markdown",
   "metadata": {},
   "source": [
    "### Multiple FFTs"
   ]
  },
  {
   "cell_type": "markdown",
   "metadata": {},
   "source": [
    "Let's plot the FFT of just one portion of this signal. This part of the signal is relatively low frequency and we can see that in the frequency domain as well."
   ]
  },
  {
   "cell_type": "code",
   "execution_count": null,
   "metadata": {},
   "outputs": [],
   "source": [
    "seg = sig[500:1500]\n",
    "fft = np.fft.rfft(seg)\n",
    "freq = np.fft.rfftfreq(len(seg), 1/fs)\n",
    "plt.clf()\n",
    "plt.subplot(2, 1, 1)\n",
    "plt.title('Time domain')\n",
    "plt.plot(ts[500:1500], seg)\n",
    "plt.subplot(2, 1, 2)\n",
    "plt.title('Frequency domain')\n",
    "plt.plot(freq, np.abs(fft))\n",
    "plt.xlim(-0.5, 2)\n",
    "plt.tight_layout()"
   ]
  },
  {
   "cell_type": "markdown",
   "metadata": {},
   "source": [
    "We can repeat this process for the entire signal -- continually taking small windows of the entire signal and computing the FFT on just that window."
   ]
  },
  {
   "cell_type": "code",
   "execution_count": null,
   "metadata": {},
   "outputs": [],
   "source": [
    "window_len = 1000\n",
    "window_shift = 100\n",
    "freq = np.fft.rfftfreq(window_len, 1/fs)\n",
    "stft = []\n",
    "for i in range(0, len(sig) - window_len, window_shift):\n",
    "    seg = sig[i: i + window_len]\n",
    "    fft = np.fft.rfft(seg)\n",
    "    stft.append(np.abs(fft))\n",
    "stft = np.array(stft).T"
   ]
  },
  {
   "cell_type": "markdown",
   "metadata": {},
   "source": [
    "We can stack this short Fourier transforms together into a matrix where each column is one FFT from one segment of the waveform. This is called the [Short-Time Fourier Transform (STFT)](https://en.wikipedia.org/wiki/Short-time_Fourier_transform)."
   ]
  },
  {
   "cell_type": "code",
   "execution_count": null,
   "metadata": {},
   "outputs": [],
   "source": [
    "stft.shape"
   ]
  },
  {
   "cell_type": "markdown",
   "metadata": {},
   "source": [
    "We can use `imshow` to display a matrix as an image where a color displays the value of a cell."
   ]
  },
  {
   "cell_type": "code",
   "execution_count": null,
   "metadata": {},
   "outputs": [],
   "source": [
    "plt.clf()\n",
    "plt.title('STFT')\n",
    "plt.imshow(stft, extent=[0, T, freq[-1], freq[0]], aspect='auto')\n",
    "plt.ylim((0, 20))\n",
    "plt.xlabel('Time (sec)')\n",
    "plt.ylabel('Frequency (Hz)')\n",
    "plt.colorbar()"
   ]
  },
  {
   "cell_type": "code",
   "execution_count": null,
   "metadata": {},
   "outputs": [],
   "source": [
    "plt.figure()\n",
    "plt.subplot(2,1,1)\n",
    "plt.title('Time Domain')\n",
    "plt.plot(ts, sig)\n",
    "plt.xlim((0, T))\n",
    "plt.subplot(2,1,2)\n",
    "plt.title('STFT')\n",
    "plt.imshow(stft, extent=[0, T, freq[-1], freq[0]], aspect='auto')\n",
    "plt.ylim((0, 20))\n",
    "plt.xlabel('Time (sec)')\n",
    "plt.ylabel('Frequency (Hz)')\n",
    "plt.tight_layout()"
   ]
  },
  {
   "cell_type": "markdown",
   "metadata": {},
   "source": [
    "### Spectrogram\n",
    "\n",
    "`matplotlib` has a convenient function that does this for us. By now you should know enough about the Fourier transform that you can figure out how to use it from the [documentation](https://matplotlib.org/3.1.1/api/_as_gen/matplotlib.pyplot.specgram.html)."
   ]
  },
  {
   "cell_type": "code",
   "execution_count": null,
   "metadata": {},
   "outputs": [],
   "source": [
    "plt.clf()\n",
    "plt.title('Spectrogram')\n",
    "plt.specgram(sig, Fs=fs, NFFT=1000, noverlap=75, xextent=((0, T)))\n",
    "plt.ylim((0, 20))\n",
    "plt.xlabel('Time (sec)')\n",
    "plt.ylabel('Frequency (Hz)')"
   ]
  },
  {
   "cell_type": "code",
   "execution_count": null,
   "metadata": {},
   "outputs": [],
   "source": []
  }
 ],
 "metadata": {
  "kernelspec": {
   "display_name": "Python 3",
   "language": "python",
   "name": "python3"
  },
  "language_info": {
   "codemirror_mode": {
    "name": "ipython",
    "version": 3
   },
   "file_extension": ".py",
   "mimetype": "text/x-python",
   "name": "python",
   "nbconvert_exporter": "python",
   "pygments_lexer": "ipython3",
   "version": "3.6.3"
  }
 },
 "nbformat": 4,
 "nbformat_minor": 2
}
