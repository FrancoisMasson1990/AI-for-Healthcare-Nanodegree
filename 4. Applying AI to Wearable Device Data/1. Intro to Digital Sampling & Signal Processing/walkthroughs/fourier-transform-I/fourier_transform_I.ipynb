{
 "cells": [
  {
   "cell_type": "markdown",
   "metadata": {},
   "source": [
    "# Fourier Transform"
   ]
  },
  {
   "cell_type": "markdown",
   "metadata": {},
   "source": [
    "This lesson is a brief introduction to the Fourier Transform. The Fourier Transform is an extremely deep mathematical concept that ties into many different disciplines. Still, these next couple of lessons will teach you how to use it as a tool to accomplish many practical tasks. We will not be going into any theory at all, and in fact, you won't see a single equation in these lessons. The goal here is to convey some intuition about this concept, and while a strong theoretical understanding is important, it's outside the scope of this class."
   ]
  },
  {
   "cell_type": "markdown",
   "metadata": {},
   "source": [
    "Let's start with our traditional imports."
   ]
  },
  {
   "cell_type": "code",
   "execution_count": null,
   "metadata": {},
   "outputs": [],
   "source": [
    "import numpy as np\n",
    "from matplotlib import pyplot as plt\n",
    "import mpld3\n",
    "import scipy as sp\n",
    "from scipy import io"
   ]
  },
  {
   "cell_type": "markdown",
   "metadata": {},
   "source": [
    "## Adding Sinusoids"
   ]
  },
  {
   "cell_type": "markdown",
   "metadata": {},
   "source": [
    "Let's make some sinusoids."
   ]
  },
  {
   "cell_type": "code",
   "execution_count": null,
   "metadata": {},
   "outputs": [],
   "source": [
    "fs = 125\n",
    "ts = np.arange(0, 10, 1/fs)\n",
    "s2 = np.sin(2 * np.pi * 2 * ts)\n",
    "s3 = np.sin(2 * np.pi * 3 * ts)"
   ]
  },
  {
   "cell_type": "code",
   "execution_count": null,
   "metadata": {},
   "outputs": [],
   "source": [
    "%matplotlib inline"
   ]
  },
  {
   "cell_type": "markdown",
   "metadata": {},
   "source": [
    "Let's plot the 2 sinusoids and their sum."
   ]
  },
  {
   "cell_type": "code",
   "execution_count": null,
   "metadata": {
    "scrolled": false
   },
   "outputs": [],
   "source": [
    "plt.figure(figsize=(12, 8))\n",
    "plt.subplot(3, 1, 1)\n",
    "plt.plot(ts, s2)\n",
    "plt.grid()\n",
    "plt.subplot(3, 1, 2)\n",
    "plt.plot(ts, s3)\n",
    "plt.grid()\n",
    "plt.subplot(3, 1, 3)\n",
    "plt.plot(ts, s2 + s3)\n",
    "plt.grid()"
   ]
  },
  {
   "cell_type": "markdown",
   "metadata": {},
   "source": [
    "The sum of two sinusoids is simply the elementwise sum at each time point. However, this means that they must be sampled synchronously. If they are not, you need to interpolate one on to the other."
   ]
  },
  {
   "cell_type": "markdown",
   "metadata": {},
   "source": [
    "## Signal Reconstruction"
   ]
  },
  {
   "cell_type": "markdown",
   "metadata": {},
   "source": [
    "Let's now look at a real-world accelerometer signal collected at the wrist during walking."
   ]
  },
  {
   "cell_type": "code",
   "execution_count": null,
   "metadata": {},
   "outputs": [],
   "source": [
    "sig = sp.io.loadmat('DATA_11_TYPE02.mat')['sig']"
   ]
  },
  {
   "cell_type": "code",
   "execution_count": null,
   "metadata": {},
   "outputs": [],
   "source": [
    "fs = 125\n",
    "seg = sig[3][9000:10000]\n",
    "seg -= np.mean(seg)"
   ]
  },
  {
   "cell_type": "code",
   "execution_count": null,
   "metadata": {},
   "outputs": [],
   "source": [
    "%matplotlib inline"
   ]
  },
  {
   "cell_type": "code",
   "execution_count": null,
   "metadata": {},
   "outputs": [],
   "source": [
    "plt.figure(figsize=(12, 8))\n",
    "plt.plot(seg)"
   ]
  },
  {
   "cell_type": "markdown",
   "metadata": {},
   "source": [
    "## Fourier Transform Demo\n",
    "\n",
    "The Fourier Transform tells us that any signal can be reconstructed by summing sinusoids of various frequencies, amplitudes, and phase shifts together.\n",
    "\n",
    "Let's see this in action."
   ]
  },
  {
   "cell_type": "code",
   "execution_count": null,
   "metadata": {},
   "outputs": [],
   "source": [
    "freqs = np.fft.rfftfreq(len(seg), 1/fs)\n",
    "rfft = np.fft.rfft(seg)\n",
    "order = np.argsort(np.abs(rfft))[::-1]\n",
    "most_imp_freqs = list(zip(freqs[order], rfft[order]))"
   ]
  },
  {
   "cell_type": "code",
   "execution_count": null,
   "metadata": {},
   "outputs": [],
   "source": [
    "%matplotlib osx"
   ]
  },
  {
   "cell_type": "code",
   "execution_count": null,
   "metadata": {},
   "outputs": [],
   "source": [
    "plot=True\n",
    "seg_rec = np.zeros(len(seg), dtype='complex128')\n",
    "ts = np.arange(len(seg)) / len(seg)\n",
    "n = 0\n",
    "plt.clf()\n",
    "fig = plt.gcf()\n",
    "ax10 = fig.add_subplot(3, 1, 1)\n",
    "ax11 = fig.add_subplot(3, 1, 2)\n",
    "ax12 = fig.add_subplot(3, 1, 3)\n",
    "ax10.plot(seg)\n",
    "ax11.plot(seg_rec, 'g')\n",
    "ax12.plot(seg)\n",
    "ax12.plot(seg_rec, 'g')\n",
    "fig.suptitle('0 sinusoids')\n",
    "plt.pause(10)\n",
    "for f, a in most_imp_freqs:\n",
    "    seg_rec += a / len(seg) * np.exp(2j * np.pi * f / (fs / len(seg)) * ts)\n",
    "    seg_rec += np.conj(a) / len(seg) * np.exp(2j * np.pi * -f / (fs / len(seg)) * ts)\n",
    "    n += 1\n",
    "    if plot:\n",
    "        ax11.clear()\n",
    "        ax11.plot(seg_rec, 'g')\n",
    "        ax12.lines.pop()\n",
    "        ax12.plot(seg_rec, 'g')\n",
    "        fig.suptitle('{} sinusoids'.format(n))\n",
    "        if n == 1:\n",
    "            plt.pause(2)\n",
    "        elif n < 5:\n",
    "            plt.pause(1)\n",
    "        elif n < 15:\n",
    "            plt.pause(0.5)\n",
    "        elif n < 120:\n",
    "            plt.pause(0.005)\n",
    "        else:\n",
    "            break"
   ]
  },
  {
   "cell_type": "markdown",
   "metadata": {},
   "source": [
    "This is basically a demonstration that Fourier is not lying to us when he says that any signal can be recreated by a sum of sinusoids. The frequency of the specific sinusoids that make up a signal can tell us important information that we can use to build algorithms to process that signal."
   ]
  },
  {
   "cell_type": "markdown",
   "metadata": {},
   "source": [
    "## Nyquist Frequency\n"
   ]
  },
  {
   "cell_type": "markdown",
   "metadata": {},
   "source": [
    "Now that we know that signals are made up of different frequency components, we can learn about a new property of sampling theory -- the **Nyquist frequency**. The Nyquist frequency tells us that when we sample an analog signal, based on the frequency components it's made up of, there are restrictions on how fast we need to sample that signal."
   ]
  },
  {
   "cell_type": "code",
   "execution_count": null,
   "metadata": {},
   "outputs": [],
   "source": [
    "%matplotlib osx"
   ]
  },
  {
   "cell_type": "markdown",
   "metadata": {},
   "source": [
    "Let's see a graphical explanation of this."
   ]
  },
  {
   "cell_type": "code",
   "execution_count": null,
   "metadata": {},
   "outputs": [],
   "source": [
    "def PlotSinSample(ax, fsin, cfs, fs, drop_bg=False):\n",
    "    cts = np.arange(0, 5, 1/cfs)\n",
    "    cs0 = np.cos(2 * np.pi * fsin * cts)\n",
    "    ts = np.arange(0, 5, 1/fs)\n",
    "    s0 = np.cos(2 * np.pi * fsin * ts)\n",
    "    ax.clear()\n",
    "    if not drop_bg:\n",
    "        ax.plot(cts, cs0)\n",
    "    ax.plot(ts, s0, 'b.', ms=10)        \n",
    "    ax.grid()\n",
    "    ax.set_title('{:0.2f} Hz'.format(fsin))\n"
   ]
  },
  {
   "cell_type": "markdown",
   "metadata": {},
   "source": [
    "In this demo, you can see what a digitized version of the analog signal would look like at various sampling rates. As we decrease the sampling rate, there will come a point where we only have two samples per period of the sine wave. If we sample any slower than this, the sine wave will look the same as a lower frequency wave and we won't be able to know the true frequency of the wave when all we have is the digitized signal.\n",
    "\n",
    "The Nyquist frequency tells us the maximum frequency analog signal we can sample is half of our sampling rate. If we try to sample a signal that has higher frequency components than this, we will see **aliasing**, which means those high-frequency components will show up at mirrored lower frequencies."
   ]
  },
  {
   "cell_type": "code",
   "execution_count": null,
   "metadata": {},
   "outputs": [],
   "source": [
    "plt.clf()\n",
    "fig = plt.gcf()\n",
    "ax = fig.add_subplot(1, 1, 1)\n",
    "fsins = np.arange(1, 5.1, 0.2)\n",
    "for fsin in fsins:\n",
    "    PlotSinSample(ax, fsin, 150, 10)\n",
    "    plt.draw()\n",
    "    while not plt.waitforbuttonpress():\n",
    "        pass\n",
    "\n",
    "fig.clf()\n",
    "ax0 = fig.add_subplot(2, 1, 1)\n",
    "ax1 = fig.add_subplot(2, 1, 2)\n",
    "while True:\n",
    "    PlotSinSample(ax0, 6, 150, 10)\n",
    "    PlotSinSample(ax1, 4, 150, 10)\n",
    "    plt.draw()\n",
    "    if not plt.waitforbuttonpress():\n",
    "        break\n",
    "    PlotSinSample(ax0, 6, 150, 10, drop_bg=True)\n",
    "    PlotSinSample(ax1, 4, 150, 10, drop_bg=True)\n",
    "    plt.draw()\n",
    "    if not plt.waitforbuttonpress():\n",
    "        break\n",
    "\n",
    "fig.clf()\n",
    "ax0 = fig.add_subplot(2, 1, 1)\n",
    "ax1 = fig.add_subplot(2, 1, 2)\n",
    "fsins = np.arange(5, 10.1, 0.2)\n",
    "for fsin in fsins:\n",
    "    PlotSinSample(ax0, fsin, 150, 10)\n",
    "    PlotSinSample(ax1, 10 - fsin, 150, 10)\n",
    "    plt.draw()\n",
    "    while not plt.waitforbuttonpress():\n",
    "        pass\n",
    "\n",
    "\n"
   ]
  },
  {
   "cell_type": "markdown",
   "metadata": {},
   "source": [
    "Hopefully, these explanations provide you with enough intuition so that in the next video, we can begin to see how to use the Fourier Transform to accomplish specific tasks.\n",
    "\n",
    "This topic is non-intuitive at first, so if you're confused, that's ok. Try watching this video again to let the information sink in and make sure to check out the further references. Feel free to play around in this notebook to explore these ideas more."
   ]
  }
 ],
 "metadata": {
  "kernelspec": {
   "display_name": "Python 3",
   "language": "python",
   "name": "python3"
  },
  "language_info": {
   "codemirror_mode": {
    "name": "ipython",
    "version": 3
   },
   "file_extension": ".py",
   "mimetype": "text/x-python",
   "name": "python",
   "nbconvert_exporter": "python",
   "pygments_lexer": "ipython3",
   "version": "3.6.3"
  }
 },
 "nbformat": 4,
 "nbformat_minor": 2
}
