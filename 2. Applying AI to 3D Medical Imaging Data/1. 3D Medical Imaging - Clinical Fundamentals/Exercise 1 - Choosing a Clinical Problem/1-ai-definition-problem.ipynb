{
 "cells": [
  {
   "cell_type": "markdown",
   "metadata": {},
   "source": [
    "# Lesson 1 Exercise\n",
    "\n",
    "## Choosing a clinical problem and framing it as a machine learning task\n",
    "\n",
    "So far you have heard from a clinician about some of the opportunities in medical imaging for AI tools. You have seen some examples of medical imaging problems ripe for disruption, and you have been introduced to the concept of medical imaging modalities and the many clinical specialties that deal with medical imaging.\n",
    "\n",
    "We will dive deeper into many of these topics, including imaging formats and some machine learning algorithms for image processing, but for now we would like you to start thinking about clinical problems from AI engineer perspective.\n",
    "\n",
    "In this exercise we want you to practice how to choose a clinical problem to tackle, explore how to research some basic facts about the disease, and frame the clinical problem as a machine learning task. You will not be expected to write code in this exercise. Rather, you will write a project proposal as a free form document. Don't be daunted - you are the best judge of this proposal, so write one that you think you will be able to show to a fellow clinician.\n",
    "\n",
    "## Part 1: Choosing a clinical case\n",
    "\n",
    "Exciting clinical problems abound in the realm of Healthcare AI. To help you narrow down some potential ideas, we will use the American College of Radiology Data Science Institute (ACR DSI) curated list of use cases that is available by following [this link](https://www.acrdsi.org/DSI-Services/Define-AI). Alternatively, you may explore any clinical problem of your choosing without using the database if you already had something in mind. Please note that some use cases in the ACR DSI database can seem overwhelming or obscure without some background medical knowledge. If this is case, simply choose something that's more intuitive. A few good starting examples include: [Acute Appendicitis](https://www.acrdsi.org/DSI-Services/Define-AI/Use-Cases/Acute-Appendicitis), [Aging Brain - Dementia](https://www.acrdsi.org/DSI-Services/Define-AI/Use-Cases/Aging-Brain---Dementia), and [Incidental Pulmonary Nodules on CT](https://www.acrdsi.org/DSI-Services/Define-AI/Use-Cases/Incidental-Pulmonary-Nodules-on-CT).\n",
    "\n",
    "Your task for this first part is to choose a case. If you choose to use the ACR DSI database, include **the link that points to your use case**. If using any other resources, please include an **image capture of PDF of a medical or AI journal article** that explores this problem within the context of machine learning."
   ]
  },
  {
   "cell_type": "markdown",
   "metadata": {},
   "source": [
    "**Part 1: Choosing a clinical case.**\n",
    "\n",
    "*I chose to focus on the case - COVID-19 Compatible Chest CT Pattern.*"
   ]
  },
  {
   "cell_type": "markdown",
   "metadata": {},
   "source": [
    "## Part 2: Background research\n",
    "\n",
    "To deliver an algorithm that performs well in a clinical setting, it can be extremely beneficial to have some rudimentary understanding of the disease or situation you are addressing. To do so, engaging in some background research to build your foundation will be crucial. For this part of the exercise, find a review article describing the problem. A good source of such articles is the PubMed database which is the initiative of the National Institutes of Health and contains over 30 million citations and full texts of biomedical articles and essays. PubMed database can be accessed here: https://pubmed.ncbi.nlm.nih.gov/\n",
    "\n",
    "Ask yourself, \"what is the current gold standard for confirming or ruling out the presence of this disease/state?\". Understanding the current gold standard/ground truth test will be a critical benchmark when testing any algorithm you develop. In your project proposal, include a **screen capture or a PDF of the article**.\n",
    "\n",
    "\n"
   ]
  },
  {
   "cell_type": "markdown",
   "metadata": {},
   "source": [
    "**Part 2: Background research.**\n",
    "\n",
    "*I then focused on Performance of radiologists in differentiating COVID-19 from viral pneumonia on chest CT paper by Bai, H.X., Hsieh, B., et. al. for my background research.*"
   ]
  },
  {
   "cell_type": "markdown",
   "metadata": {},
   "source": [
    "## Part 3: Framing the problem as a machine learning task\n",
    "\n",
    "With some background knowledge of the disease or condition at hand, as well as how it is currently ruled in or out, consider how the task could be framed as a machine learning problem. We will be going over this in much more detail in further lessons of this course, but some early exposure will be useful. For example, solving the problem of autonomously detecting one or more lung nodules could be framed as an object detection task. Measuring changes in tumor volume over time may be best framed as a segmentation task, etc. Add a **short paragraph detailing how you would frame your clinical problem of choice as a machine learning task**, and explain your rationale."
   ]
  },
  {
   "cell_type": "markdown",
   "metadata": {},
   "source": [
    "**Part 3: Framing the problem as a machine learning task.**\n",
    "\n",
    "*Per the ACR-DSI, the assigned task is to provide a likelihood of a diagnosis compatible with COVID-19 using chest CT data. I believe an initial step in solving this clinical problem, determining whether any abnormal findings are present on a chest CT, would be well-framed as an object detection task. The output would be a bounding box delineating the areas of abnormality that could indicate viral pneumonia. Based on recent literature, such findings could include consolidation, bilateral and peripheral disease, linear opacities, “crazy-paving” patterns, and the “reverse halo” sign. While these findings are not-specific for COVID-19, their detection could guide the ordering clinician to be more vigilant in follow-up testing for the disease. A negative STAT rapid influenza/RSV PCR tests and positive Real-Time Reverse Transcriptase Polymerase Chain Reaction (rRT-PCR) would confirm the diagnosis.*"
   ]
  }
 ],
 "metadata": {
  "kernelspec": {
   "display_name": "Python 3",
   "language": "python",
   "name": "python3"
  },
  "language_info": {
   "codemirror_mode": {
    "name": "ipython",
    "version": 3
   },
   "file_extension": ".py",
   "mimetype": "text/x-python",
   "name": "python",
   "nbconvert_exporter": "python",
   "pygments_lexer": "ipython3",
   "version": "3.6.3"
  }
 },
 "nbformat": 4,
 "nbformat_minor": 2
}
