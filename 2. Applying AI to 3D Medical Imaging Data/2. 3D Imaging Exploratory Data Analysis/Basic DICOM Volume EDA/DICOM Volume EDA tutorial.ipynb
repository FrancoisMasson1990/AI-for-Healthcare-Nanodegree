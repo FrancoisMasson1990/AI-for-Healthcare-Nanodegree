{
 "cells": [
  {
   "cell_type": "markdown",
   "metadata": {},
   "source": [
    "# Exploratory Data Analysis of DICOM datasets\n",
    "\n",
    "> _note that we are not aiming for optimal memory use here in some cases. You should consider general best practices if writing optimized code_\n",
    "\n",
    "Let's load some images"
   ]
  },
  {
   "cell_type": "code",
   "execution_count": null,
   "metadata": {},
   "outputs": [],
   "source": [
    "import pydicom\n",
    "import matplotlib.pyplot as plt\n",
    "import matplotlib.cm as cm\n",
    "import numpy.ma as ma\n",
    "import numpy as np\n",
    "import os\n",
    "\n",
    "plt.rcParams[\"figure.figsize\"] = (10,10)\n",
    "\n",
    "path = f\"samples/DICOM CT study/JohnDoe_CT_series\"\n",
    "slices = [pydicom.dcmread(os.path.join(path, f)) for f in sorted(os.listdir(path))]"
   ]
  },
  {
   "cell_type": "code",
   "execution_count": null,
   "metadata": {},
   "outputs": [],
   "source": [
    "# How many slices do we have?\n",
    "\n",
    "len(slices)"
   ]
  },
  {
   "cell_type": "code",
   "execution_count": null,
   "metadata": {
    "scrolled": false
   },
   "outputs": [],
   "source": [
    "# Let's take a look at some metadata. Note slice thickness, dimensions and pixel spacing\n",
    "\n",
    "print(slices[0])"
   ]
  },
  {
   "cell_type": "code",
   "execution_count": null,
   "metadata": {
    "scrolled": true
   },
   "outputs": [],
   "source": [
    "# Let's print some of those data elements using PyDicom's member variable intercepts:\n",
    "\n",
    "print(f\"Pixel Spacing: {slices[0].PixelSpacing}\")\n",
    "print(f\"Slice Thickness: {slices[0].SliceThickness}mm\")"
   ]
  },
  {
   "cell_type": "code",
   "execution_count": null,
   "metadata": {},
   "outputs": [],
   "source": [
    "# Another way to address data elements in pyDicom (e.g. if we are dealing with those that are not \n",
    "# in the DICOM data dictionary):\n",
    "\n",
    "print(f\"Pixel Spacing: {slices[0][0x0028,0x0030].value}\")"
   ]
  },
  {
   "cell_type": "code",
   "execution_count": null,
   "metadata": {},
   "outputs": [],
   "source": [
    "# Let's extract the pixel data\n",
    "\n",
    "image_data = np.stack([s.pixel_array for s in slices])"
   ]
  },
  {
   "cell_type": "code",
   "execution_count": null,
   "metadata": {},
   "outputs": [],
   "source": [
    "# Dimensions?\n",
    "\n",
    "image_data.shape"
   ]
  },
  {
   "cell_type": "code",
   "execution_count": null,
   "metadata": {},
   "outputs": [],
   "source": [
    "# Data type?\n",
    "\n",
    "image_data.dtype"
   ]
  },
  {
   "cell_type": "code",
   "execution_count": null,
   "metadata": {},
   "outputs": [],
   "source": [
    "# Let's visualize a slice\n",
    "# Even by looking at the array shape we can tell that axis 0 is the z axis \n",
    "# and if we slice across it we will get axial slices\n",
    "\n",
    "img = image_data[115,:,:]\n",
    "\n",
    "plt.imshow(img,cmap = \"gray\")"
   ]
  },
  {
   "cell_type": "code",
   "execution_count": null,
   "metadata": {},
   "outputs": [],
   "source": [
    "# Not bad! Let's visualize a bunch of slices\n",
    "\n",
    "fig, ax = plt.subplots(5, 5, figsize=[10,10])\n",
    "\n",
    "for i in range(25):\n",
    "    ix = i*int(len(slices)/25)\n",
    "    ax[int(i/5), int(i%5)].set_title(f\"slice {ix}\")\n",
    "    ax[int(i/5), int(i%5)].imshow(image_data[ix, :, :], cmap='gray')\n",
    "    ax[int(i/5), int(i%5)].axis(\"off\")\n",
    "\n",
    "plt.show()"
   ]
  },
  {
   "cell_type": "code",
   "execution_count": null,
   "metadata": {
    "scrolled": false
   },
   "outputs": [],
   "source": [
    "# Let's do coronal slice now\n",
    "\n",
    "img_coronal = image_data[:,250,:]\n",
    "plt.imshow(img_coronal, cmap=\"gray\")"
   ]
  },
  {
   "cell_type": "markdown",
   "metadata": {},
   "source": [
    "Whoa, what just happened?\n",
    "Remember that our voxels are not isotropic? We need to scale along Z dimension to get proper representation\n"
   ]
  },
  {
   "cell_type": "code",
   "execution_count": null,
   "metadata": {
    "scrolled": true
   },
   "outputs": [],
   "source": [
    "aspect_ratio = slices[0].SliceThickness/slices[0].PixelSpacing[0]\n",
    "\n",
    "plt.imshow(img_coronal, cmap=\"gray\", aspect = aspect_ratio)"
   ]
  },
  {
   "cell_type": "code",
   "execution_count": null,
   "metadata": {
    "scrolled": false
   },
   "outputs": [],
   "source": [
    "# Let's crop our extracted slice a little to focus on the anatomy\n",
    "\n",
    "img_crop = img[110:400,:]\n",
    "plt.imshow(img_crop,cmap = cm.Greys_r)"
   ]
  },
  {
   "cell_type": "code",
   "execution_count": null,
   "metadata": {
    "scrolled": true
   },
   "outputs": [],
   "source": [
    "# Let's visualize the histogram - what values do we have here?\n",
    "\n",
    "p = img_crop.flatten()\n",
    "# vals, bins, ignored = plt.hist(p[p>-900], bins = 200)\n",
    "vals, bins, ignored = plt.hist(p, bins = 200)\n",
    "plt.show()"
   ]
  },
  {
   "cell_type": "code",
   "execution_count": null,
   "metadata": {
    "scrolled": true
   },
   "outputs": [],
   "source": [
    "print(img_crop.max())\n",
    "print(img_crop.min())"
   ]
  },
  {
   "cell_type": "markdown",
   "metadata": {},
   "source": [
    "### A reminder on Hounsfield Units\n",
    "The Hounsfield scale is used to measure radiodensity and, in reference to medical-grade CT scans, can provide an accurate absolute density for the type of tissue depicted. \n",
    "\n",
    "https://en.wikipedia.org/wiki/Hounsfield_scale\n",
    "\n",
    "<img src= \"img/hu_j.png\" width=400>"
   ]
  },
  {
   "cell_type": "markdown",
   "metadata": {},
   "source": [
    "Looks good, but what is this extreme stuff? What's 3071 and -3024?"
   ]
  },
  {
   "cell_type": "code",
   "execution_count": null,
   "metadata": {},
   "outputs": [],
   "source": [
    "# Let's look at the bottom end:\n",
    "\n",
    "np.sort(np.unique(img_crop))"
   ]
  },
  {
   "cell_type": "markdown",
   "metadata": {},
   "source": [
    "So we can see that after a bunch of pixels valued at -3024 we immediately jump to -1024 which wits quite close to the range of the Hounsfield scale. This could lead you to believe that -3024 is not a result of reconstruction of the CT sinogram, but rather something that was added to the image later. And it is so, and it happens quite often - CT scanners add \"magic\" values to pad volumes to rectangles (since images are saved as rectangular grids of voxels). A large negative value is selected so that it does not overlap with values that would be legitimately present on an HU scale.\n",
    "\n",
    "Now let's look at the upper end of that range"
   ]
  },
  {
   "cell_type": "code",
   "execution_count": null,
   "metadata": {
    "scrolled": true
   },
   "outputs": [],
   "source": [
    "# Let us apply the window\n",
    "\n",
    "hu_min = 2000\n",
    "hu_max = 4000\n",
    "\n",
    "# Note that here we are using the Numpy's Masked Array module which allows us to mask values that fall outside of \n",
    "# range that interests us\n",
    "# windowed_img = ma.masked_where((img_crop < hu_min) | (img_crop > hu_max), img_crop)\n",
    "windowed_img = np.copy(img_crop)\n",
    "windowed_img[np.where(windowed_img < hu_min)] = hu_min\n",
    "windowed_img[np.where(windowed_img > hu_max)] = hu_max\n",
    "\n",
    "# plt.imshow(ma.masked_array(data = img_crop, mask = img_crop > hu_max, fill_value = img_crop.min()).filled(), cmap = cm.Greys_r)\n",
    "plt.imshow(windowed_img, cmap=\"gray\")"
   ]
  },
  {
   "cell_type": "code",
   "execution_count": null,
   "metadata": {},
   "outputs": [],
   "source": [
    "windowed_img.shape"
   ]
  },
  {
   "cell_type": "code",
   "execution_count": null,
   "metadata": {},
   "outputs": [],
   "source": [
    "# Let's zoom in on this thing a bit better\n",
    "\n",
    "plt.imshow(img_crop[15:60, 380:430], cmap=\"gray\")"
   ]
  },
  {
   "cell_type": "code",
   "execution_count": null,
   "metadata": {
    "scrolled": true
   },
   "outputs": [],
   "source": [
    "# Using numpy's Masked Array for convenience\n",
    "\n",
    "masked = ma.masked_outside(img_crop, hu_min, hu_max)\n",
    "\n",
    "np.sort(np.unique(img_crop[~masked.mask]))"
   ]
  },
  {
   "cell_type": "code",
   "execution_count": null,
   "metadata": {
    "scrolled": true
   },
   "outputs": [],
   "source": [
    "# Let us see what values we have in our windowed range\n",
    "\n",
    "_ = plt.hist(masked.flatten(), bins = 15)\n",
    "\n",
    "plt.show()"
   ]
  },
  {
   "cell_type": "markdown",
   "metadata": {},
   "source": [
    "That has to be a synthetic material. And it is - that is a chemotherapy port."
   ]
  },
  {
   "cell_type": "markdown",
   "metadata": {},
   "source": [
    "An interesting observation: original image's voxel range:"
   ]
  },
  {
   "cell_type": "code",
   "execution_count": null,
   "metadata": {},
   "outputs": [],
   "source": [
    "print(f\"range: {img_crop.max()-img_crop.min()}\")"
   ]
  },
  {
   "cell_type": "markdown",
   "metadata": {},
   "source": [
    "However, we don't really need the extreme values. As you've seen we can safely ditch anything below -1200 and anything over 1300 and still have all the information about anatomy. It might be safe to apply such mask to the entire dataset. Given that you will be converting your data to floating point format for ML workflows, you will be able to use much smaller scale factor for conversion which in this case would effectively double the precision at which your model can operate while keeping the same memory footprint."
   ]
  }
 ],
 "metadata": {
  "kernelspec": {
   "display_name": "Python 3",
   "language": "python",
   "name": "python3"
  },
  "language_info": {
   "codemirror_mode": {
    "name": "ipython",
    "version": 3
   },
   "file_extension": ".py",
   "mimetype": "text/x-python",
   "name": "python",
   "nbconvert_exporter": "python",
   "pygments_lexer": "ipython3",
   "version": "3.7.6"
  }
 },
 "nbformat": 4,
 "nbformat_minor": 2
}
